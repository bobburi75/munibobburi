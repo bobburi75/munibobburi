{
 "cells": [
  {
   "cell_type": "markdown",
   "id": "7455b74b",
   "metadata": {},
   "source": [
    "Exercise 2 - Create a markdown cell with the title of the notebook.\n",
    "# Title of the Notebook\n"
   ]
  },
  {
   "cell_type": "markdown",
   "id": "8fa1434f",
   "metadata": {},
   "source": [
    "Exercise 3 - Create a markdown cell for an introduction\n",
    "## Introduction\n",
    "This notebook covers various aspects of data science including languages, libraries, tools, and basic arithmetic operations.\n"
   ]
  },
  {
   "cell_type": "markdown",
   "id": "4aa43e13",
   "metadata": {},
   "source": [
    "Exercise 4 - Create a markdown cell to list data science languages.\n",
    "## Data Science Languages\n",
    "- Python\n",
    "- R\n",
    "- SQL\n",
    "- Julia\n",
    "- Scala\n"
   ]
  },
  {
   "cell_type": "markdown",
   "id": "3887ff56",
   "metadata": {},
   "source": [
    "Exercise 5 - Create a markdown cell to list data science libraries\n",
    "## Data Science Libraries\n",
    "- Pandas\n",
    "- NumPy\n",
    "- Matplotlib\n",
    "- Scikit-learn\n",
    "- TensorFlow\n",
    "- Keras\n"
   ]
  },
  {
   "cell_type": "markdown",
   "id": "4b22e9bd",
   "metadata": {},
   "source": [
    "Exercise 6 - Create a markdown cell with a table of Data Science tools.\n",
    "## Data Science Tools\n",
    "\n",
    "| Tool         | Description                        |\n",
    "|--------------|------------------------------------|\n",
    "| Jupyter      | Interactive computing environment  |\n",
    "| RStudio      | IDE for R                          |\n",
    "| Apache Spark | Cluster-computing framework        |\n",
    "| TensorFlow   | Machine learning library           |\n"
   ]
  },
  {
   "cell_type": "markdown",
   "id": "9da497be",
   "metadata": {},
   "source": [
    "Exercise 7 - Create a markdown cell introducing arithmetic expression examples.\n",
    "## Arithmetic Expression Examples\n",
    "Below are examples of basic arithmetic operations.\n"
   ]
  },
  {
   "cell_type": "markdown",
   "id": "c4553650",
   "metadata": {},
   "source": [
    "Exercise 8 - Create a code cell to multiply and add numbers.\n",
    "\n"
   ]
  },
  {
   "cell_type": "code",
   "execution_count": 3,
   "id": "6b585bef",
   "metadata": {},
   "outputs": [
    {
     "data": {
      "text/plain": [
       "17"
      ]
     },
     "execution_count": 3,
     "metadata": {},
     "output_type": "execute_result"
    }
   ],
   "source": [
    "# Multiplication and addition\n",
    "result = (3 * 4) + 5\n",
    "result"
   ]
  },
  {
   "cell_type": "markdown",
   "id": "f0d299ae",
   "metadata": {},
   "source": [
    "Exercise 9 - Create a code cell to convert minutes to hours. "
   ]
  },
  {
   "cell_type": "code",
   "execution_count": 4,
   "id": "e40a77cb",
   "metadata": {},
   "outputs": [
    {
     "data": {
      "text/plain": [
       "2.0"
      ]
     },
     "execution_count": 4,
     "metadata": {},
     "output_type": "execute_result"
    }
   ],
   "source": [
    "# Convert minutes to hours\n",
    "minutes = 120\n",
    "hours = minutes / 60\n",
    "hours"
   ]
  },
  {
   "cell_type": "markdown",
   "id": "e9037c40",
   "metadata": {},
   "source": [
    "Exercise 10 - Insert a markdown cell to list Objectives."
   ]
  },
  {
   "cell_type": "markdown",
   "id": "8c124572",
   "metadata": {},
   "source": [
    "## Objectives\n",
    "- Understand basic data science languages\n",
    "- Learn about popular data science libraries\n",
    "- Get familiar with data science tools\n",
    "- Perform basic arithmetic operations in Python\n"
   ]
  },
  {
   "cell_type": "markdown",
   "id": "55f131d9",
   "metadata": {},
   "source": [
    "Exercise 11 - Create a markdown cell to indicate the Author’s name."
   ]
  },
  {
   "cell_type": "markdown",
   "id": "0cd6aff0",
   "metadata": {},
   "source": [
    "Exercise 11 - Create a markdown cell to indicate the Author’s name."
   ]
  },
  {
   "cell_type": "code",
   "execution_count": null,
   "id": "87158ee8",
   "metadata": {},
   "outputs": [],
   "source": [
    "## Author\n",
    "Muneendra Kumar Bobburi"
   ]
  }
 ],
 "metadata": {
  "kernelspec": {
   "display_name": "Python 3 (ipykernel)",
   "language": "python",
   "name": "python3"
  },
  "language_info": {
   "codemirror_mode": {
    "name": "ipython",
    "version": 3
   },
   "file_extension": ".py",
   "mimetype": "text/x-python",
   "name": "python",
   "nbconvert_exporter": "python",
   "pygments_lexer": "ipython3",
   "version": "3.11.1"
  }
 },
 "nbformat": 4,
 "nbformat_minor": 5
}
